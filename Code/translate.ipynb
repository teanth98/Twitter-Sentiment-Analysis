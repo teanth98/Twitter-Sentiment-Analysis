{
 "cells": [
  {
   "cell_type": "code",
   "execution_count": 1,
   "outputs": [],
   "source": [
    "import pandas as pd"
   ],
   "metadata": {
    "collapsed": false,
    "pycharm": {
     "name": "#%%\n"
    }
   }
  },
  {
   "cell_type": "code",
   "execution_count": 2,
   "metadata": {
    "collapsed": true
   },
   "outputs": [],
   "source": [
    "data =pd.read_csv(\"C:\\\\Users\\skrPlays\\Downloads\\\\russia_tweets.csv\", names= [\"tweetcreatedts\",\"extractedts\",\"userid\",\"tweetid\",\"text\",\"language\",\"formatted_dt\"])\n",
    "data['tweet_date'] =  pd.to_datetime(data['tweetcreatedts'],  errors='coerce', infer_datetime_format=True).dt.date\n",
    "data.dropna(subset=['tweet_date'], inplace=True)"
   ]
  },
  {
   "cell_type": "code",
   "execution_count": null,
   "outputs": [],
   "source": [
    "data.head()"
   ],
   "metadata": {
    "collapsed": false,
    "pycharm": {
     "name": "#%%\n"
    }
   }
  },
  {
   "cell_type": "code",
   "execution_count": 4,
   "outputs": [
    {
     "data": {
      "text/plain": "tweetcreatedts    0\nextractedts       0\nuserid            0\ntweetid           0\ntext              0\nlanguage          0\nformatted_dt      0\ntweet_date        0\ndtype: int64"
     },
     "execution_count": 4,
     "metadata": {},
     "output_type": "execute_result"
    }
   ],
   "source": [
    "data.isnull().sum()"
   ],
   "metadata": {
    "collapsed": false,
    "pycharm": {
     "name": "#%%\n"
    }
   }
  },
  {
   "cell_type": "code",
   "execution_count": 5,
   "outputs": [
    {
     "name": "stdout",
     "output_type": "stream",
     "text": [
      "<class 'pandas.core.frame.DataFrame'>\n",
      "Int64Index: 242038 entries, 918 to 344356\n",
      "Data columns (total 8 columns):\n",
      " #   Column          Non-Null Count   Dtype \n",
      "---  ------          --------------   ----- \n",
      " 0   tweetcreatedts  242038 non-null  object\n",
      " 1   extractedts     242038 non-null  object\n",
      " 2   userid          242038 non-null  int64 \n",
      " 3   tweetid         242038 non-null  int64 \n",
      " 4   text            242038 non-null  object\n",
      " 5   language        242038 non-null  object\n",
      " 6   formatted_dt    242038 non-null  object\n",
      " 7   tweet_date      242038 non-null  object\n",
      "dtypes: int64(2), object(6)\n",
      "memory usage: 16.6+ MB\n"
     ]
    }
   ],
   "source": [
    "data.info()"
   ],
   "metadata": {
    "collapsed": false,
    "pycharm": {
     "name": "#%%\n"
    }
   }
  },
  {
   "cell_type": "code",
   "execution_count": 9,
   "outputs": [
    {
     "data": {
      "text/plain": "2022-04-08    11363\n2022-04-04     6297\n2022-04-03     6257\n2022-04-02     6115\n2022-03-05     5621\n2022-03-23     5609\n2022-04-09     5604\n2022-03-21     5439\n2022-03-03     5349\n2022-03-06     5257\n2022-04-05     5234\n2022-04-20     4616\n2022-04-16     4550\n2022-03-13     4459\n2022-03-30     4334\n2022-03-07     4321\n2022-04-19     4286\n2022-04-23     4227\n2022-04-07     4209\n2022-04-01     4151\n2022-03-31     4118\n2022-03-18     4037\n2022-04-27     3990\n2022-03-09     3979\n2022-04-11     3975\n2022-03-04     3929\n2022-04-06     3857\n2022-03-02     3848\n2022-04-17     3847\n2022-03-01     3776\n2022-03-25     3771\n2022-03-29     3660\n2022-03-19     3633\n2022-03-20     3607\n2022-04-18     3580\n2022-03-28     3561\n2022-03-27     3470\n2022-03-12     3437\n2022-04-15     3398\n2022-04-25     3361\n2022-04-12     3318\n2022-04-10     3306\n2022-03-24     3303\n2022-03-08     3290\n2022-02-28     3288\n2022-04-22     3268\n2022-04-13     3199\n2022-03-10     3193\n2022-04-24     3185\n2022-03-17     3178\n2022-03-22     3131\n2022-03-26     3062\n2022-04-21     3031\n2022-04-14     3012\n2022-04-26     2945\n2022-03-15     2922\n2022-03-11     2734\n2022-03-16     2496\n2022-03-14     2420\n2022-02-27     1625\nName: tweet_date, dtype: int64"
     },
     "execution_count": 9,
     "metadata": {},
     "output_type": "execute_result"
    }
   ],
   "source": [
    "data['tweet_date'].value_counts()"
   ],
   "metadata": {
    "collapsed": false,
    "pycharm": {
     "name": "#%%\n"
    }
   }
  },
  {
   "cell_type": "code",
   "execution_count": 8,
   "outputs": [
    {
     "data": {
      "text/plain": "60"
     },
     "execution_count": 8,
     "metadata": {},
     "output_type": "execute_result"
    }
   ],
   "source": [
    "len(data['tweet_date'].value_counts())"
   ],
   "metadata": {
    "collapsed": false,
    "pycharm": {
     "name": "#%%\n"
    }
   }
  },
  {
   "cell_type": "code",
   "execution_count": 10,
   "outputs": [],
   "source": [
    "(data.groupby('tweet_date').head(1000).reset_index(drop=True)).to_csv('russian_tweets1000s.csv',index=False)"
   ],
   "metadata": {
    "collapsed": false,
    "pycharm": {
     "name": "#%%\n"
    }
   }
  },
  {
   "cell_type": "markdown",
   "source": [
    "#### From here, put the code in Google collab"
   ],
   "metadata": {
    "collapsed": false
   }
  },
  {
   "cell_type": "code",
   "execution_count": null,
   "outputs": [],
   "source": [
    "from google.colab import drive\n",
    "drive.mount('/content/drive')\n",
    "%cd /content/drive/MyDrive/Colab Notebooks/"
   ],
   "metadata": {
    "collapsed": false,
    "pycharm": {
     "name": "#%%\n"
    }
   }
  },
  {
   "cell_type": "code",
   "execution_count": null,
   "outputs": [],
   "source": [
    "import pandas as pd\n",
    "import numpy as np\n",
    "import timeit\n",
    "!pip install deep-translator\n",
    "from deep_translator import GoogleTranslator"
   ],
   "metadata": {
    "collapsed": false,
    "pycharm": {
     "name": "#%%\n"
    }
   }
  },
  {
   "cell_type": "code",
   "execution_count": null,
   "outputs": [],
   "source": [
    "df =pd.read_csv(\"/content/drive/MyDrive/Colab Notebooks/russian_tweets1000s.csv\")"
   ],
   "metadata": {
    "collapsed": false,
    "pycharm": {
     "name": "#%%\n"
    }
   }
  },
  {
   "cell_type": "code",
   "execution_count": null,
   "outputs": [],
   "source": [
    "df.shape"
   ],
   "metadata": {
    "collapsed": false,
    "pycharm": {
     "name": "#%%\n"
    }
   }
  },
  {
   "cell_type": "code",
   "execution_count": null,
   "outputs": [],
   "source": [
    "df.dropna(subset=['text'], inplace=True)\n",
    "print(df.shape)\n",
    "print(df['language'].value_counts())"
   ],
   "metadata": {
    "collapsed": false,
    "pycharm": {
     "name": "#%%\n"
    }
   }
  },
  {
   "cell_type": "code",
   "execution_count": null,
   "outputs": [],
   "source": [
    "print(min(df['tweet_date']),max(df['tweet_date']))"
   ],
   "metadata": {
    "collapsed": false,
    "pycharm": {
     "name": "#%%\n"
    }
   }
  },
  {
   "cell_type": "code",
   "execution_count": null,
   "outputs": [],
   "source": [
    "import re\n",
    "def preprocess_uk(sentence):\n",
    "    sentence=str(sentence)\n",
    "    sentence =  re.sub(r'()#\\w+', r'\\1', sentence) #removes hashtags\n",
    "    sentence = re.sub(r'@\\w+', '', sentence)\n",
    "    return ' '.join(re.sub(\"(@[A-Za-z0-9]+)|(\\w+:\\/\\/\\S+)\",\" \",sentence).split())\n",
    "\n",
    "df['processed_text']=df['text'].map(lambda s:preprocess_uk(s))"
   ],
   "metadata": {
    "collapsed": false,
    "pycharm": {
     "name": "#%%\n"
    }
   }
  },
  {
   "cell_type": "code",
   "execution_count": null,
   "outputs": [],
   "source": [
    "df_ru_split = np.array_split(df, 25)\n",
    "print(df_ru_split[0].shape,df_ru_split[1].shape)"
   ],
   "metadata": {
    "collapsed": false,
    "pycharm": {
     "name": "#%%\n"
    }
   }
  },
  {
   "cell_type": "code",
   "execution_count": null,
   "outputs": [],
   "source": [
    "df['text']"
   ],
   "metadata": {
    "collapsed": false,
    "pycharm": {
     "name": "#%%\n"
    }
   }
  },
  {
   "cell_type": "code",
   "execution_count": null,
   "outputs": [],
   "source": [
    "df['processed_text']"
   ],
   "metadata": {
    "collapsed": false,
    "pycharm": {
     "name": "#%%\n"
    }
   }
  },
  {
   "cell_type": "code",
   "execution_count": null,
   "outputs": [],
   "source": [
    "df['processed_text'].isnull().sum()"
   ],
   "metadata": {
    "collapsed": false,
    "pycharm": {
     "name": "#%%\n"
    }
   }
  },
  {
   "cell_type": "code",
   "execution_count": null,
   "outputs": [],
   "source": [
    "max(df_ru_split[10]['tweetcreatedts'])"
   ],
   "metadata": {
    "collapsed": false,
    "pycharm": {
     "name": "#%%\n"
    }
   }
  },
  {
   "cell_type": "code",
   "execution_count": null,
   "outputs": [],
   "source": [
    "import time\n",
    "\n",
    "# for i in range(1,3):\n",
    "#   arr_df_it.append( pd.DataFrame())\n",
    "df_trans_ru = pd.DataFrame()\n",
    "for i in range(len(df_ru_split)):\n",
    "    print(i)\n",
    "    start_time = timeit.default_timer()\n",
    "    df_ru_split[i]['translated']=GoogleTranslator(source='ru', target='en').translate_batch(df_ru_split[i]['processed_text'].to_list())\n",
    "    print(timeit.default_timer() - start_time)\n",
    "    df_trans_ru = pd.concat([df_trans_ru,df_ru_split[i]],axis=0)\n",
    "    if (i%5==0 and i!=0) or (i==len(df_ru_split)-1):\n",
    "      df_trans_ru.to_csv('df_trans_ru'+str(i)+'.csv',index=False)\n",
    "\n",
    "    time.sleep(1)"
   ],
   "metadata": {
    "collapsed": false,
    "pycharm": {
     "name": "#%%\n"
    }
   }
  }
 ],
 "metadata": {
  "kernelspec": {
   "display_name": "Python 3",
   "language": "python",
   "name": "python3"
  },
  "language_info": {
   "codemirror_mode": {
    "name": "ipython",
    "version": 2
   },
   "file_extension": ".py",
   "mimetype": "text/x-python",
   "name": "python",
   "nbconvert_exporter": "python",
   "pygments_lexer": "ipython2",
   "version": "2.7.6"
  }
 },
 "nbformat": 4,
 "nbformat_minor": 0
}