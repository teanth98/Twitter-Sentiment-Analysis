{
 "nbformat": 4,
 "nbformat_minor": 0,
 "metadata": {
  "colab": {
   "name": "sentiment_analyser.ipynb",
   "provenance": []
  },
  "kernelspec": {
   "name": "python3",
   "display_name": "Python 3"
  },
  "language_info": {
   "name": "python"
  }
 },
 "cells": [
  {
   "cell_type": "code",
   "execution_count": 10,
   "outputs": [],
   "source": [
    "import pandas as pd\n",
    "import seaborn as sns\n",
    "import matplotlib.pyplot as plt\n",
    "from nltk.sentiment.vader import SentimentIntensityAnalyzer\n",
    "from wordcloud import WordCloud, STOPWORDS, ImageColorGenerator\n",
    "import nltk\n",
    "import re\n",
    "from nltk.corpus import stopwords\n",
    "import string\n",
    "import os\n",
    "import numpy as np\n",
    "\n",
    "csv_collection = []\n",
    "for dirname, _, filenames in os.walk('C:\\\\Users\\skrPlays\\Downloads\\\\tweets'):\n",
    "    for filename in filenames:\n",
    "        fullpath= os.path.join(dirname, filename)\n",
    "        csv_collection.append(fullpath)"
   ],
   "metadata": {
    "collapsed": false,
    "pycharm": {
     "name": "#%%\n"
    }
   }
  },
  {
   "cell_type": "code",
   "execution_count": 11,
   "outputs": [
    {
     "data": {
      "text/plain": "['C:\\\\Users\\\\skrPlays\\\\Downloads\\\\tweets\\\\0401_UkraineCombinedTweetsDeduped.csv.gzip',\n 'C:\\\\Users\\\\skrPlays\\\\Downloads\\\\tweets\\\\0402_UkraineCombinedTweetsDeduped.csv.gzip',\n 'C:\\\\Users\\\\skrPlays\\\\Downloads\\\\tweets\\\\0403_UkraineCombinedTweetsDeduped.csv.gzip',\n 'C:\\\\Users\\\\skrPlays\\\\Downloads\\\\tweets\\\\0404_UkraineCombinedTweetsDeduped.csv.gzip',\n 'C:\\\\Users\\\\skrPlays\\\\Downloads\\\\tweets\\\\0405_UkraineCombinedTweetsDeduped.csv.gzip',\n 'C:\\\\Users\\\\skrPlays\\\\Downloads\\\\tweets\\\\0406_UkraineCombinedTweetsDeduped.csv.gzip',\n 'C:\\\\Users\\\\skrPlays\\\\Downloads\\\\tweets\\\\0407_UkraineCombinedTweetsDeduped.csv.gzip',\n 'C:\\\\Users\\\\skrPlays\\\\Downloads\\\\tweets\\\\0408_UkraineCombinedTweetsDeduped.csv.gzip',\n 'C:\\\\Users\\\\skrPlays\\\\Downloads\\\\tweets\\\\0409_UkraineCombinedTweetsDeduped.csv.gzip',\n 'C:\\\\Users\\\\skrPlays\\\\Downloads\\\\tweets\\\\0410_UkraineCombinedTweetsDeduped.csv.gzip',\n 'C:\\\\Users\\\\skrPlays\\\\Downloads\\\\tweets\\\\0411_UkraineCombinedTweetsDeduped.csv.gzip',\n 'C:\\\\Users\\\\skrPlays\\\\Downloads\\\\tweets\\\\0412_UkraineCombinedTweetsDeduped.csv.gzip',\n 'C:\\\\Users\\\\skrPlays\\\\Downloads\\\\tweets\\\\0413_UkraineCombinedTweetsDeduped.csv.gzip',\n 'C:\\\\Users\\\\skrPlays\\\\Downloads\\\\tweets\\\\0414_UkraineCombinedTweetsDeduped.csv.gzip',\n 'C:\\\\Users\\\\skrPlays\\\\Downloads\\\\tweets\\\\0415_UkraineCombinedTweetsDeduped.csv.gzip',\n 'C:\\\\Users\\\\skrPlays\\\\Downloads\\\\tweets\\\\0416_UkraineCombinedTweetsDeduped.csv.gzip',\n 'C:\\\\Users\\\\skrPlays\\\\Downloads\\\\tweets\\\\0417_UkraineCombinedTweetsDeduped.csv.gzip',\n 'C:\\\\Users\\\\skrPlays\\\\Downloads\\\\tweets\\\\0418_UkraineCombinedTweetsDeduped.csv.gzip',\n 'C:\\\\Users\\\\skrPlays\\\\Downloads\\\\tweets\\\\0419_UkraineCombinedTweetsDeduped.csv.gzip',\n 'C:\\\\Users\\\\skrPlays\\\\Downloads\\\\tweets\\\\0420_UkraineCombinedTweetsDeduped.csv.gzip',\n 'C:\\\\Users\\\\skrPlays\\\\Downloads\\\\tweets\\\\0421_UkraineCombinedTweetsDeduped.csv.gzip',\n 'C:\\\\Users\\\\skrPlays\\\\Downloads\\\\tweets\\\\0422_UkraineCombinedTweetsDeduped.csv.gzip',\n 'C:\\\\Users\\\\skrPlays\\\\Downloads\\\\tweets\\\\0423_UkraineCombinedTweetsDeduped.csv.gzip',\n 'C:\\\\Users\\\\skrPlays\\\\Downloads\\\\tweets\\\\0424_UkraineCombinedTweetsDeduped.csv.gzip',\n 'C:\\\\Users\\\\skrPlays\\\\Downloads\\\\tweets\\\\0425_UkraineCombinedTweetsDeduped.csv.gzip',\n 'C:\\\\Users\\\\skrPlays\\\\Downloads\\\\tweets\\\\0426_UkraineCombinedTweetsDeduped.csv.gzip',\n 'C:\\\\Users\\\\skrPlays\\\\Downloads\\\\tweets\\\\0427_UkraineCombinedTweetsDeduped.csv.gzip',\n 'C:\\\\Users\\\\skrPlays\\\\Downloads\\\\tweets\\\\UkraineCombinedTweetsDeduped20220227-131611.csv.gzip',\n 'C:\\\\Users\\\\skrPlays\\\\Downloads\\\\tweets\\\\UkraineCombinedTweetsDeduped_FEB27.csv.gzip',\n 'C:\\\\Users\\\\skrPlays\\\\Downloads\\\\tweets\\\\UkraineCombinedTweetsDeduped_FEB28_part1.csv.gzip',\n 'C:\\\\Users\\\\skrPlays\\\\Downloads\\\\tweets\\\\UkraineCombinedTweetsDeduped_FEB28_part2.csv.gzip',\n 'C:\\\\Users\\\\skrPlays\\\\Downloads\\\\tweets\\\\UkraineCombinedTweetsDeduped_MAR01.csv.gzip',\n 'C:\\\\Users\\\\skrPlays\\\\Downloads\\\\tweets\\\\UkraineCombinedTweetsDeduped_MAR02.csv.gzip',\n 'C:\\\\Users\\\\skrPlays\\\\Downloads\\\\tweets\\\\UkraineCombinedTweetsDeduped_MAR03.csv.gzip',\n 'C:\\\\Users\\\\skrPlays\\\\Downloads\\\\tweets\\\\UkraineCombinedTweetsDeduped_MAR04.csv.gzip',\n 'C:\\\\Users\\\\skrPlays\\\\Downloads\\\\tweets\\\\UkraineCombinedTweetsDeduped_MAR05.csv.gzip',\n 'C:\\\\Users\\\\skrPlays\\\\Downloads\\\\tweets\\\\UkraineCombinedTweetsDeduped_MAR06.csv.gzip',\n 'C:\\\\Users\\\\skrPlays\\\\Downloads\\\\tweets\\\\UkraineCombinedTweetsDeduped_MAR07.csv.gzip',\n 'C:\\\\Users\\\\skrPlays\\\\Downloads\\\\tweets\\\\UkraineCombinedTweetsDeduped_MAR08.csv.gzip',\n 'C:\\\\Users\\\\skrPlays\\\\Downloads\\\\tweets\\\\UkraineCombinedTweetsDeduped_MAR09.csv.gzip',\n 'C:\\\\Users\\\\skrPlays\\\\Downloads\\\\tweets\\\\UkraineCombinedTweetsDeduped_MAR10.csv.gzip',\n 'C:\\\\Users\\\\skrPlays\\\\Downloads\\\\tweets\\\\UkraineCombinedTweetsDeduped_MAR11.csv.gzip',\n 'C:\\\\Users\\\\skrPlays\\\\Downloads\\\\tweets\\\\UkraineCombinedTweetsDeduped_MAR12.csv.gzip',\n 'C:\\\\Users\\\\skrPlays\\\\Downloads\\\\tweets\\\\UkraineCombinedTweetsDeduped_MAR13.csv.gzip',\n 'C:\\\\Users\\\\skrPlays\\\\Downloads\\\\tweets\\\\UkraineCombinedTweetsDeduped_MAR14.csv.gzip',\n 'C:\\\\Users\\\\skrPlays\\\\Downloads\\\\tweets\\\\UkraineCombinedTweetsDeduped_MAR15.csv.gzip',\n 'C:\\\\Users\\\\skrPlays\\\\Downloads\\\\tweets\\\\UkraineCombinedTweetsDeduped_MAR16.csv.gzip',\n 'C:\\\\Users\\\\skrPlays\\\\Downloads\\\\tweets\\\\UkraineCombinedTweetsDeduped_MAR17.csv.gzip',\n 'C:\\\\Users\\\\skrPlays\\\\Downloads\\\\tweets\\\\UkraineCombinedTweetsDeduped_MAR18.csv.gzip',\n 'C:\\\\Users\\\\skrPlays\\\\Downloads\\\\tweets\\\\UkraineCombinedTweetsDeduped_MAR19.csv.gzip',\n 'C:\\\\Users\\\\skrPlays\\\\Downloads\\\\tweets\\\\UkraineCombinedTweetsDeduped_MAR20.csv.gzip',\n 'C:\\\\Users\\\\skrPlays\\\\Downloads\\\\tweets\\\\UkraineCombinedTweetsDeduped_MAR21.csv.gzip',\n 'C:\\\\Users\\\\skrPlays\\\\Downloads\\\\tweets\\\\UkraineCombinedTweetsDeduped_MAR22.csv.gzip',\n 'C:\\\\Users\\\\skrPlays\\\\Downloads\\\\tweets\\\\UkraineCombinedTweetsDeduped_MAR23.csv.gzip',\n 'C:\\\\Users\\\\skrPlays\\\\Downloads\\\\tweets\\\\UkraineCombinedTweetsDeduped_MAR24.csv.gzip',\n 'C:\\\\Users\\\\skrPlays\\\\Downloads\\\\tweets\\\\UkraineCombinedTweetsDeduped_MAR25.csv.gzip',\n 'C:\\\\Users\\\\skrPlays\\\\Downloads\\\\tweets\\\\UkraineCombinedTweetsDeduped_MAR26.csv.gzip',\n 'C:\\\\Users\\\\skrPlays\\\\Downloads\\\\tweets\\\\UkraineCombinedTweetsDeduped_MAR27_to_28.csv.gzip',\n 'C:\\\\Users\\\\skrPlays\\\\Downloads\\\\tweets\\\\UkraineCombinedTweetsDeduped_MAR29.csv.gzip',\n 'C:\\\\Users\\\\skrPlays\\\\Downloads\\\\tweets\\\\UkraineCombinedTweetsDeduped_MAR30_REAL.csv.gzip',\n 'C:\\\\Users\\\\skrPlays\\\\Downloads\\\\tweets\\\\UkraineCombinedTweetsDeduped_MAR31.csv.gzip']"
     },
     "execution_count": 11,
     "metadata": {},
     "output_type": "execute_result"
    }
   ],
   "source": [
    "csv_collection"
   ],
   "metadata": {
    "collapsed": false,
    "pycharm": {
     "name": "#%%\n"
    }
   }
  },
  {
   "cell_type": "code",
   "execution_count": 12,
   "outputs": [
    {
     "name": "stderr",
     "output_type": "stream",
     "text": [
      "C:\\Users\\skrPlays\\AppData\\Local\\Temp\\ipykernel_15060\\2102135557.py:9: DtypeWarning: Columns (18,21,24,25,28) have mixed types. Specify dtype option on import or set low_memory=False.\n",
      "  tmp = pd.read_csv(data, compression = 'gzip', index_col=0,\n"
     ]
    }
   ],
   "source": [
    "df = pd.read_csv(csv_collection.pop(),compression = 'gzip', index_col=0,\n",
    "                 dtype={'userid':int, 'username':object, 'acctdesc':object, 'location':object,\n",
    "                        'following':int, 'followers':int, 'totaltweets':int, 'usercreatedts':object,\n",
    "                        'tweetid':int, 'tweetcreatedts':object, 'retweetcount':int, 'text':object,\n",
    "                        'hashtags':object, 'language':object, 'coordinates':object, 'favorite_count':int,\n",
    "                        'extractedts':object})\n",
    "for data in csv_collection:\n",
    "    try:\n",
    "        tmp = pd.read_csv(data, compression = 'gzip', index_col=0,\n",
    "                          dtype={'userid':int, 'username':object, 'acctdesc':object, 'location':object,\n",
    "                                 'following':int, 'followers':int, 'totaltweets':int, 'usercreatedts':object,\n",
    "                                 'tweetid':int, 'tweetcreatedts':object, 'retweetcount':int, 'text':object,\n",
    "                                 'hashtags':object, 'language':object, 'coordinates':object, 'favorite_count':int,\n",
    "                                 'extractedts':object})\n",
    "    except:\n",
    "        tmp = pd.read_csv(data, index_col = 0)\n",
    "    df = pd.concat([df, tmp], axis=0)"
   ],
   "metadata": {
    "collapsed": false,
    "pycharm": {
     "name": "#%%\n"
    }
   }
  },
  {
   "cell_type": "code",
   "execution_count": null,
   "outputs": [],
   "source": [
    "pd.read_csv(data, index_col = 0)"
   ],
   "metadata": {
    "collapsed": false,
    "pycharm": {
     "name": "#%%\n"
    }
   }
  },
  {
   "cell_type": "code",
   "execution_count": 13,
   "outputs": [
    {
     "data": {
      "text/plain": "(25719255, 28)"
     },
     "execution_count": 13,
     "metadata": {},
     "output_type": "execute_result"
    }
   ],
   "source": [
    "df.shape"
   ],
   "metadata": {
    "collapsed": false,
    "pycharm": {
     "name": "#%%\n"
    }
   }
  },
  {
   "cell_type": "code",
   "execution_count": 14,
   "outputs": [
    {
     "data": {
      "text/plain": "2022-03-07    567745\n2022-03-06    566767\n2022-03-05    546780\n2022-03-08    519385\n2022-03-09    493857\n               ...  \n2022-04-16    332860\n2022-04-17    325909\n2022-04-27    318809\n2022-04-25    317674\n2022-02-24    298045\nName: tweetcreatedts, Length: 63, dtype: int64"
     },
     "execution_count": 14,
     "metadata": {},
     "output_type": "execute_result"
    }
   ],
   "source": [
    "data = df[[\"tweetcreatedts\", \"username\", \"text\", \"language\"]]\n",
    "data = data[data[\"language\"]==\"en\"]\n",
    "data.isnull().sum()\n",
    "data_dates =  pd.to_datetime(df['tweetcreatedts'],  errors='coerce', infer_datetime_format=True).dt.date\n",
    "data_dates.value_counts()"
   ],
   "metadata": {
    "collapsed": false,
    "pycharm": {
     "name": "#%%\n"
    }
   }
  },
  {
   "cell_type": "code",
   "execution_count": 15,
   "outputs": [
    {
     "name": "stderr",
     "output_type": "stream",
     "text": [
      "[nltk_data] Downloading package stopwords to\n",
      "[nltk_data]     C:\\Users\\skrPlays\\AppData\\Roaming\\nltk_data...\n",
      "[nltk_data]   Package stopwords is already up-to-date!\n"
     ]
    }
   ],
   "source": [
    "nltk.download('stopwords')\n",
    "stemmer = nltk.SnowballStemmer(\"english\")\n",
    "stopword=set(stopwords.words('english'))\n",
    "\n",
    "def clean(text):\n",
    "    text = str(text).lower()\n",
    "    text = re.sub('\\[.*?\\]', '', text)\n",
    "    text = re.sub('https?://\\S+|www\\.\\S+', '', text)\n",
    "    text = re.sub('<.*?>+', '', text)\n",
    "    text = re.sub('[%s]' % re.escape(string.punctuation), '', text)\n",
    "    text = re.sub('\\n', '', text)\n",
    "    text = re.sub('\\w*\\d\\w*', '', text)\n",
    "    text = [word for word in text.split(' ') if word not in stopword]\n",
    "    text=\" \".join(text)\n",
    "    text = [stemmer.stem(word) for word in text.split(' ')]\n",
    "    text=\" \".join(text)\n",
    "    return text\n",
    "data[\"tweet_stemmed\"] = data[\"text\"].apply(clean)"
   ],
   "metadata": {
    "collapsed": false,
    "pycharm": {
     "name": "#%%\n"
    }
   }
  },
  {
   "cell_type": "code",
   "source": [
    "nltk.download('vader_lexicon')\n",
    "sentiments = SentimentIntensityAnalyzer()\n",
    "data[\"Positive\"] = [sentiments.polarity_scores(i)[\"pos\"] for i in data[\"tweet_stemmed\"]]\n",
    "data[\"Negative\"] = [sentiments.polarity_scores(i)[\"neg\"] for i in data[\"tweet_stemmed\"]]\n",
    "data[\"Neutral\"] = [sentiments.polarity_scores(i)[\"neu\"] for i in data[\"tweet_stemmed\"]]\n",
    "data[\"Compound\"] = [sentiments.polarity_scores(i)[\"compound\"] for i in data[\"tweet_stemmed\"]]\n",
    "data = data[[\"tweetcreatedts\", \"text\", \"Positive\", \"Negative\", \"Neutral\", \"Compound\"]]\n",
    "print(data.head())"
   ],
   "metadata": {
    "colab": {
     "base_uri": "https://localhost:8080/"
    },
    "id": "l-wYWIRN-kjP",
    "outputId": "87da4ed0-1b89-486b-e9bf-d536b11dd28f"
   },
   "execution_count": 16,
   "outputs": [
    {
     "name": "stderr",
     "output_type": "stream",
     "text": [
      "[nltk_data] Downloading package vader_lexicon to\n",
      "[nltk_data]     C:\\Users\\skrPlays\\AppData\\Roaming\\nltk_data...\n",
      "[nltk_data]   Package vader_lexicon is already up-to-date!\n"
     ]
    },
    {
     "name": "stdout",
     "output_type": "stream",
     "text": [
      "               tweetcreatedts  \\\n",
      "0  2022-03-31 00:00:00.000000   \n",
      "1  2022-03-31 00:00:00.000000   \n",
      "2  2022-03-31 00:00:00.000000   \n",
      "3  2022-03-31 00:00:00.000000   \n",
      "4  2022-03-31 00:00:00.000000   \n",
      "\n",
      "                                                text  Positive  Negative  \\\n",
      "0  Humanitarian drive in Midhurst sends medicine,...     0.213     0.000   \n",
      "1  This morning, #LetUsPray for #RussiaUkraine th...     0.291     0.000   \n",
      "2  #RussiaUkraineWar | Horrors of nuclear war hau...     0.000     0.668   \n",
      "3    Moral support. #Ukraine https://t.co/wcysaBFdkE     0.574     0.000   \n",
      "4  #Russian citizens KNOW the genocide going on i...     0.123     0.261   \n",
      "\n",
      "   Neutral  Compound  \n",
      "0    0.787    0.2263  \n",
      "1    0.709    0.7506  \n",
      "2    0.332   -0.9590  \n",
      "3    0.426    0.4019  \n",
      "4    0.616   -0.5719  \n"
     ]
    }
   ]
  },
  {
   "cell_type": "code",
   "execution_count": 17,
   "outputs": [
    {
     "name": "stdout",
     "output_type": "stream",
     "text": [
      "Negative    8336566\n",
      "Positive    5069514\n",
      "Neutral     4078228\n",
      "Name: Sentiment, dtype: int64\n"
     ]
    }
   ],
   "source": [
    "conditions = [\n",
    "    data['Compound'] > 0,\n",
    "    data['Compound'] == 0,\n",
    "    data['Compound'] < 0,\n",
    "]\n",
    "\n",
    "values = ['Positive', 'Neutral', 'Negative']\n",
    "\n",
    "data['Sentiment'] = np.select(conditions, values)\n",
    "print(data['Sentiment'].value_counts())"
   ],
   "metadata": {
    "collapsed": false,
    "pycharm": {
     "name": "#%%\n"
    }
   }
  },
  {
   "cell_type": "code",
   "execution_count": 18,
   "outputs": [
    {
     "name": "stderr",
     "output_type": "stream",
     "text": [
      "C:\\Users\\skrPlays\\AppData\\Local\\Temp\\ipykernel_15060\\1532893575.py:4: SettingWithCopyWarning: \n",
      "A value is trying to be set on a copy of a slice from a DataFrame.\n",
      "Try using .loc[row_indexer,col_indexer] = value instead\n",
      "\n",
      "See the caveats in the documentation: https://pandas.pydata.org/pandas-docs/stable/user_guide/indexing.html#returning-a-view-versus-a-copy\n",
      "  sentiment_per_ts['tweet_date'] =  pd.to_datetime(sentiment_per_ts['tweetcreatedts'],  errors='coerce', infer_datetime_format=True).dt.date\n"
     ]
    }
   ],
   "source": [
    "sentiment_per_ts = data[['tweetcreatedts','Compound','Sentiment']]\n",
    "#sentiment_per_ts['tweetcreatedts'].value_counts()\n",
    "\n",
    "sentiment_per_ts['tweet_date'] =  pd.to_datetime(sentiment_per_ts['tweetcreatedts'],  errors='coerce', infer_datetime_format=True).dt.date"
   ],
   "metadata": {
    "collapsed": false,
    "pycharm": {
     "name": "#%%\n"
    }
   }
  },
  {
   "cell_type": "code",
   "execution_count": 19,
   "outputs": [
    {
     "name": "stdout",
     "output_type": "stream",
     "text": [
      "(17484308, 4)\n",
      "(17484308, 4)\n"
     ]
    },
    {
     "name": "stderr",
     "output_type": "stream",
     "text": [
      "C:\\Users\\skrPlays\\AppData\\Local\\Temp\\ipykernel_15060\\1187916437.py:2: SettingWithCopyWarning: \n",
      "A value is trying to be set on a copy of a slice from a DataFrame\n",
      "\n",
      "See the caveats in the documentation: https://pandas.pydata.org/pandas-docs/stable/user_guide/indexing.html#returning-a-view-versus-a-copy\n",
      "  sentiment_per_ts.dropna(inplace=True)\n"
     ]
    }
   ],
   "source": [
    "print(sentiment_per_ts.shape)\n",
    "sentiment_per_ts.dropna(inplace=True)\n",
    "print(sentiment_per_ts.shape)"
   ],
   "metadata": {
    "collapsed": false,
    "pycharm": {
     "name": "#%%\n"
    }
   }
  },
  {
   "cell_type": "code",
   "execution_count": 20,
   "outputs": [],
   "source": [
    "summary_sentiments_per_date=sentiment_per_ts.groupby('tweet_date')['Compound'].describe()\n",
    "population_sentiments_per_date = sentiment_per_ts.groupby('tweet_date')['Sentiment'].value_counts(normalize=True).unstack(level=-1)\n",
    "pd.merge(summary_sentiments_per_date,population_sentiments_per_date,on = 'tweet_date').to_csv(\"sentimentPerDate_en.csv\")"
   ],
   "metadata": {
    "collapsed": false,
    "pycharm": {
     "name": "#%%\n"
    }
   }
  },
  {
   "cell_type": "code",
   "execution_count": 20,
   "outputs": [],
   "source": [],
   "metadata": {
    "collapsed": false,
    "pycharm": {
     "name": "#%%\n"
    }
   }
  }
 ]
}